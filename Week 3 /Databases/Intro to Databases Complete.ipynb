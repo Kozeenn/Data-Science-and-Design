{
 "cells": [
  {
   "cell_type": "markdown",
   "metadata": {},
   "source": [
    "# Introduction\n",
    "\n",
    "In this tutorial we will use SQLite - this is a simple, file or memory based database. It is easy to use anywhere, as you just need the python module - no complicated installs or setup.\n",
    "\n",
    "Here's the documentation: https://docs.python.org/3/library/sqlite3.html\n",
    "\n",
    "Another introduction: https://www.pythoncentral.io/introduction-to-sqlite-in-python/ \n",
    "\n",
    "To get started, simply import the module:"
   ]
  },
  {
   "cell_type": "code",
   "execution_count": null,
   "metadata": {},
   "outputs": [],
   "source": [
    "import sqlite3"
   ]
  },
  {
   "cell_type": "markdown",
   "metadata": {},
   "source": [
    "Now, we need to connect to a database. We will use a file - you could also use `\":memory:\"` to have a temporary database in memory. We also need a \"cursor\" - this points to the database, and lets us execute queries."
   ]
  },
  {
   "cell_type": "code",
   "execution_count": null,
   "metadata": {},
   "outputs": [],
   "source": [
    "# Creates or opens a file called mydb with a SQLite3 DB\n",
    "conn = sqlite3.connect('example_db')\n",
    "# Get a cursor\n",
    "cursor = conn.cursor()"
   ]
  },
  {
   "cell_type": "code",
   "execution_count": null,
   "metadata": {},
   "outputs": [],
   "source": [
    "print(\"hello\")"
   ]
  },
  {
   "cell_type": "markdown",
   "metadata": {},
   "source": [
    "# Creating Tables\n",
    "\n",
    "The first thing to do is create a 'table' - tables have a name, and a set of columns. Each column has a particular type, and the database will complain if you try to put the wrong thing in it.\n",
    "\n",
    "We'll make a table of students, with basic information in:\n",
    "* an ID number (sid)\n",
    "* a full name\n",
    "* a Programme\n",
    "* a year of study\n",
    "\n",
    "Every time we have done something with the database, we have to commit the data."
   ]
  },
  {
   "cell_type": "code",
   "execution_count": null,
   "metadata": {},
   "outputs": [],
   "source": [
    "cursor.execute('''\n",
    "    CREATE TABLE students(id INTEGER PRIMARY KEY, name TEXT,\n",
    "                       programme TEXT, year INTEGER)\n",
    "''')\n",
    "conn.commit()"
   ]
  },
  {
   "cell_type": "code",
   "execution_count": null,
   "metadata": {},
   "outputs": [],
   "source": [
    "\n",
    "# Run a SELECT query - more on this later\n",
    "cursor.execute('''\n",
    "    SELECT * from students\n",
    "''')\n",
    "# Get all of the results of the query, and print them\n",
    "print( cursor.fetchall() )"
   ]
  },
  {
   "cell_type": "markdown",
   "metadata": {},
   "source": [
    "# Inserting Data\n",
    "\n",
    "The previous command gave us an empty array, as we have not put anything into the table. We can put things in using `INSERT` statements. With `INSERT` queries, and most others, we use \"placeholders\" in the query - this is a questionmark (?) that will be replaced by a value that we pass in. This helps to avoid errors, and increases security."
   ]
  },
  {
   "cell_type": "code",
   "execution_count": null,
   "metadata": {},
   "outputs": [],
   "source": [
    "# We use INSERT to put data into the table.\n",
    "cursor.execute('''\n",
    "    INSERT INTO students (id, name, programme, year) VALUES (?,?,?,?)\n",
    "''', (1,\"Kingsely\",\"Geography\", 3))\n",
    "# Get all of the results of the query, and print them\n",
    "conn.commit()"
   ]
  },
  {
   "cell_type": "code",
   "execution_count": null,
   "metadata": {},
   "outputs": [],
   "source": [
    "cursor.execute('''\n",
    "    SELECT * from students\n",
    "''')\n",
    "# Get all of the results of the query, and print them\n",
    "print( cursor.fetchall() )"
   ]
  },
  {
   "cell_type": "markdown",
   "metadata": {},
   "source": [
    "If we try the same query again, it will fail, because we have said that the ID number has to be unique, so we can't add another student with ID 1. This is very useful - you know that if a column has a uniqueness constraint, all of the values will be unique:"
   ]
  },
  {
   "cell_type": "code",
   "execution_count": null,
   "metadata": {},
   "outputs": [],
   "source": [
    "# We use INSERT to put data into the table.\n",
    "cursor.execute('''\n",
    "    INSERT INTO students (id, name, programme, year) VALUES (?,?,?,?)\n",
    "''', (1,\"Kingsley\",\"Geography\", 3))\n",
    "# Get all of the results of the query, and print them\n",
    "conn.commit()"
   ]
  },
  {
   "cell_type": "markdown",
   "metadata": {},
   "source": [
    "It can be annoying adding rows one by one, so we can add multiple rows at once:"
   ]
  },
  {
   "cell_type": "code",
   "execution_count": null,
   "metadata": {},
   "outputs": [],
   "source": [
    "data = [\n",
    "    (2, \"JP\",\"Geography\", 3),\n",
    "    (3, \"Jan\", \"Medicine\", 3)\n",
    "]\n",
    "\n",
    "cursor.executemany('''\n",
    "    INSERT INTO students (id, name, programme, year) VALUES (?,?,?,?)\n",
    "''', data)\n",
    "conn.commit()\n",
    "\n",
    "\n",
    "# Now check that they are in there\n",
    "cursor.execute('''\n",
    "    SELECT * from students\n",
    "''')\n",
    "print( cursor.fetchall() )"
   ]
  },
  {
   "cell_type": "code",
   "execution_count": null,
   "metadata": {},
   "outputs": [],
   "source": [
    "# It's also possible to use a dictionary, so that order doesn't matter.\n",
    "# The keys in the dictionary should match what goes in the VALUES list, with a colon before each name. This\n",
    "# may make it easier to use data from elsewhere.\n",
    "\n",
    "data = { \"student_id\": 4, \"year_of_study\":4, \"fullname\":\"Howard\", \"subject\" : \"Geography\"}\n",
    "\n",
    "cursor.execute('''\n",
    "    INSERT INTO students (id, name, programme, year) VALUES (:student_id,:fullname,:subject,:year_of_study)\n",
    "''', data)\n",
    "\n",
    "conn.commit()\n"
   ]
  },
  {
   "cell_type": "markdown",
   "metadata": {},
   "source": [
    "# Retrieving data with SELECT\n",
    "\n",
    "Now that we have data in thge database, we can use SELECT queries to retrieve it. So far, we have used SELECT with no options to get everything, but in practice we might want to:\n",
    "    * only get certain rows\n",
    "    * only get certain columns\n",
    "    \n",
    "Most `SELECT` queies have a `WHERE` clause, that defines the rows that you want. This means that a general `SELECT` looks like this:\n",
    "    \n",
    "`SELECT <cols> FROM <tablename> WHERE <constraints>`\n",
    "\n",
    "Constraints can take many forms - the authorative document for SQLite is here, but it is hard reading: https://www.sqlite.org/lang_select.html. Common constraints are:\n",
    "* `=` for equality (e.g. age = 45). Works with strings, but they need to be in quotes, e.g. `name = 'Jemima'`\n",
    "* `>` or `<` for numbers\n",
    "* `LIKE` does partial string matching, with `%` standing in for \"anything\", so `city LIKE 'Lon%'` would match London, Long Beach and Longjing\n",
    "* `NOT` selects all the rows where the condition does not match\n",
    "* `AND`, OR can be used to combine conditions\n",
    "\n",
    "A `*` for cols means get all of the columns, but you can also use comma separated column names to get less of the data.       "
   ]
  },
  {
   "cell_type": "code",
   "execution_count": null,
   "metadata": {},
   "outputs": [],
   "source": [
    "# Get just students in year 3\n",
    "cursor.execute('''\n",
    "    SELECT * from students WHERE year = 3\n",
    "''')\n",
    "print( cursor.fetchall() )"
   ]
  },
  {
   "cell_type": "code",
   "execution_count": null,
   "metadata": {},
   "outputs": [],
   "source": [
    "# Get just the name and ID columns\n",
    "cursor.execute('''\n",
    "    SELECT name, id from students \n",
    "''')\n",
    "print( cursor.fetchall() )"
   ]
  },
  {
   "cell_type": "markdown",
   "metadata": {},
   "source": [
    "## Exercises:"
   ]
  },
  {
   "cell_type": "code",
   "execution_count": null,
   "metadata": {},
   "outputs": [],
   "source": [
    "# Get all of the Geography students"
   ]
  },
  {
   "cell_type": "code",
   "execution_count": null,
   "metadata": {},
   "outputs": [],
   "source": [
    "# Get all of the students who are *NOT* in year 3"
   ]
  },
  {
   "cell_type": "code",
   "execution_count": null,
   "metadata": {},
   "outputs": [],
   "source": [
    "# Get all of the students whose name starts with \"J\""
   ]
  },
  {
   "cell_type": "code",
   "execution_count": null,
   "metadata": {},
   "outputs": [],
   "source": [
    "# Get all of the students who are in year 3 *AND* studying Geography. Do the same with OR"
   ]
  },
  {
   "cell_type": "code",
   "execution_count": null,
   "metadata": {},
   "outputs": [],
   "source": [
    "# Read all the data from the csv file `extra_students.csv` and add this to your database\n",
    "\n",
    "# Start by opening the file with a CSV reader\n",
    "\n",
    "# Now go through each line in the file\n",
    "\n",
    "# Construct an insert statement that will add that row to the database. Note that you will have to turn the ID and Year fields into Integers\n",
    "\n",
    "# When you have added the whole file, make sure to commit it.\n",
    "import csv\n",
    "\n",
    "with open('extra_students.csv', 'r') as csvfile:\n",
    "    data = csv.reader(csvfile, delimiter=',', quotechar='\"')\n",
    "    for row in data:\n",
    "        print(row) # Check what we have...\n",
    "        cursor.execute('''\n",
    "            INSERT INTO students (id, name, programme, year) VALUES (?,?,?,?)\n",
    "        ''', (int(row[0]), row[1], row[2], int(row[3])))\n",
    "conn.commit()\n"
   ]
  },
  {
   "cell_type": "code",
   "execution_count": null,
   "metadata": {},
   "outputs": [],
   "source": [
    "# Now select all of the students to make sure you have a full set of 7.\n",
    "cursor.execute('''\n",
    "    SELECT * from students\n",
    "''')\n",
    "print( cursor.fetchall() )"
   ]
  },
  {
   "cell_type": "markdown",
   "metadata": {},
   "source": [
    "# Changing data\n",
    "\n",
    "We saw that we cannot add another student with the same ID. However, we might want to change some of the information - perhaps we found that Kingsley is actually studing Music, or that English should be called English Literature. The `UPDATE` statement does this. It needs:\n",
    "* a set of `column=value` pairs for the new data\n",
    "* a set of rows to work on (using a `WHERE` clause).\n",
    "So it looks like:\n",
    "`UPDATE <tablename> SET <col1=val1,col2=val2,...> WHERE <constraints>`"
   ]
  },
  {
   "cell_type": "code",
   "execution_count": null,
   "metadata": {},
   "outputs": [],
   "source": [
    "# This example will change Kingsley's programme to Music, based on knowing his ID is 1\n",
    "# Get just students in year 3\n",
    "cursor.execute('''\n",
    "    UPDATE students SET programme=\"Music\" WHERE id = 1\n",
    "''')\n",
    "conn.commit()\n",
    "cursor.execute('''\n",
    "    SELECT * from students\n",
    "''')\n",
    "print( cursor.fetchall() )"
   ]
  },
  {
   "cell_type": "code",
   "execution_count": null,
   "metadata": {},
   "outputs": [],
   "source": [
    "# Now, change all of the students who are doing English so that they are doing \"English Literature\"\n",
    "cursor.execute('''\n",
    "    UPDATE students SET programme=\"English Literature\" WHERE programme=\"English\"\n",
    "''')\n",
    "conn.commit()\n",
    "cursor.execute('''\n",
    "    SELECT * from students\n",
    "''')\n",
    "print( cursor.fetchall() )"
   ]
  },
  {
   "cell_type": "markdown",
   "metadata": {},
   "source": [
    "# Deleting Data\n",
    "\n",
    "Deleting uses the `DELETE` command, with a `WHERE` clause, to delete all of the rows that match the condition, e.g."
   ]
  },
  {
   "cell_type": "code",
   "execution_count": null,
   "metadata": {},
   "outputs": [],
   "source": [
    "# This command will delete all the students whose ID is greater than 4\n",
    "cursor.execute('''\n",
    "    DELETE FROM students WHERE id > 4\n",
    "''')\n",
    "conn.commit()"
   ]
  },
  {
   "cell_type": "markdown",
   "metadata": {},
   "source": [
    "# Joining Data\n",
    "\n",
    "Data can be joined together in different ways (Refer back to the end of Lecture 2 for pictures of the operations).\n",
    "\n",
    "In SQL we typically use `JOIN` to bring two separate datasets together. This is a very quick intro. Some more examples with SQLite are in: https://www.tutorialspoint.com/sqlite/sqlite_using_joins.htm \n",
    "\n",
    "To demonstrate this, we'll create a table of extra information about students:"
   ]
  },
  {
   "cell_type": "code",
   "execution_count": null,
   "metadata": {},
   "outputs": [],
   "source": [
    "data = [(1, 'Swimming'), (2, 'Fencing'), (5, 'Swimming'), (6, 'Trampolining'), (7, 'Tennis')]\n",
    "\n",
    "cursor.execute('''\n",
    "    CREATE TABLE hobbies(student_id INTEGER, hobby TEXT)\n",
    "''')\n",
    "\n",
    "cursor.executemany('''\n",
    "    INSERT INTO hobbies (student_id, hobby) VALUES (?,?)\n",
    "''', data)\n",
    "conn.commit()"
   ]
  },
  {
   "cell_type": "markdown",
   "metadata": {},
   "source": [
    "Now that we have the table, we can use SELECT with JOIN to get joined up data. The first kind of join is an `INNER JOIN` - this will give a row in the output for every row which exists in *both* tables:"
   ]
  },
  {
   "cell_type": "code",
   "execution_count": null,
   "metadata": {},
   "outputs": [],
   "source": [
    "cursor.execute('''\n",
    "    SELECT * from students JOIN hobbies ON students.id == hobbies.student_id\n",
    "''')\n",
    "cursor.fetchall()"
   ]
  },
  {
   "cell_type": "markdown",
   "metadata": {},
   "source": [
    "As you can see, this has only given us a row for students that have a hobby. Often, we would be interested in *all* students, even if they don't have a hobby. We can do this using an `OUTER JOIN`. There are three kinds of outer join:\n",
    "* `LEFT OUTER JOIN` gives a row for each row in the left hand table (students in this case) whether or not there is a row in the right hand table (hobbies).\n",
    "* `RIGHT OUTER JOIN` gives a row for each row in the right hand table, whether or not there is a corresponding row in the left hand table\n",
    "* `FULL OUTER JOIN` gives a row for each row in *either* table.\n",
    "\n",
    "SQLite only support `LEFT OUTER JOIN`, but other databases will let you do more."
   ]
  },
  {
   "cell_type": "code",
   "execution_count": null,
   "metadata": {},
   "outputs": [],
   "source": [
    "cursor.execute('''\n",
    "    SELECT * from students LEFT OUTER JOIN hobbies ON students.id == hobbies.student_id\n",
    "''')\n",
    "cursor.fetchall()"
   ]
  },
  {
   "cell_type": "code",
   "execution_count": null,
   "metadata": {},
   "outputs": [],
   "source": []
  },
  {
   "cell_type": "markdown",
   "metadata": {},
   "source": [
    "## Excercise\n",
    "* Create a new database table with some other information about the students in\n",
    "* Join that onto the original info, as above."
   ]
  },
  {
   "cell_type": "code",
   "execution_count": null,
   "metadata": {},
   "outputs": [],
   "source": [
    "# Create table\n",
    "\n",
    "# Fill it with students"
   ]
  },
  {
   "cell_type": "code",
   "execution_count": null,
   "metadata": {},
   "outputs": [],
   "source": [
    "# Now construct a join"
   ]
  },
  {
   "cell_type": "markdown",
   "metadata": {},
   "source": [
    "# Pandas and SQLite\n",
    "\n",
    "Some of the operations on databases are a bit more fiddly than you are used to. The good news is that `pandas` can be used alongside SQLite, relating `DataFrames` to database tables.\n",
    "\n",
    "Some resources:\n",
    "* Documentation: https://pandas.pydata.org/pandas-docs/stable/io.html#sql-queries\n",
    "* Tutorial mapping SQL to Pandas: https://medium.com/jbennetcodes/how-to-rewrite-your-sql-queries-in-pandas-and-more-149d341fc53e \n",
    "\n",
    "This means that you can use advanced Pandas features that make it easy to read in CSV files with the correct types, and then put the data in a database so it can be queried and used in the future. You can bring the results of complex JOINs into DataFrames and then work with them conveniently in-memory.\n",
    "\n",
    "Firstly, it is easy to get the result of a `SELECT` query as a `DataFrame`:"
   ]
  },
  {
   "cell_type": "code",
   "execution_count": null,
   "metadata": {},
   "outputs": [],
   "source": [
    "import pandas as pd\n",
    "conn.commit()\n",
    "df = pd.read_sql_query(\"select * from students\", con=conn)\n",
    "df\n",
    "\n",
    "# NOTE: this may not be working in notebooks for some reason - sorry!"
   ]
  },
  {
   "cell_type": "markdown",
   "metadata": {},
   "source": [
    "Next, we can add dataframes as tables. This will make the dataframe persistent, and allow it to be used with other SQL select queries etc:"
   ]
  },
  {
   "cell_type": "code",
   "execution_count": null,
   "metadata": {},
   "outputs": [],
   "source": [
    "df = pd.DataFrame(data={\"id\":[5,6,7],\"food\":[\"Cheese\", \"Bread\",\"Leuttice\"]})\n",
    "df"
   ]
  },
  {
   "cell_type": "code",
   "execution_count": null,
   "metadata": {},
   "outputs": [],
   "source": [
    "df.to_sql('food', conn,if_exists=\"replace\") \n",
    "#The if_exists field can also be set to \"append\" to \n",
    "# add data to an existing table, or \"fail\" to stop if the table already exists\n",
    "cursor.execute('''\n",
    "    SELECT * from food\n",
    "''')\n",
    "cursor.fetchall()"
   ]
  },
  {
   "cell_type": "markdown",
   "metadata": {},
   "source": [
    "## Exercise\n",
    "\n",
    "Use Pandas' CSV reading function to read in the extra_students data to a DataFrame, and then create a table in the database with that data. Use a `SELECT` query to make sure you have the right data in there."
   ]
  },
  {
   "cell_type": "markdown",
   "metadata": {},
   "source": [
    "# Summing up\n",
    "\n",
    "Through this notebook, you have seen:\n",
    "* How to connect to a simple SQL database\n",
    "* How to add, select, modify and delete data within the database\n",
    "* How to use Pandas to interface more easily with the data"
   ]
  },
  {
   "cell_type": "markdown",
   "metadata": {},
   "source": [
    "## Useful commands\n",
    "\n",
    "There are some commands below that may be of use for setting and checking the database state."
   ]
  },
  {
   "cell_type": "code",
   "execution_count": null,
   "metadata": {},
   "outputs": [],
   "source": [
    "# Completely delete the students table\n",
    "cursor.execute('''\n",
    "    DROP TABLE students\n",
    "''')\n",
    "conn.commit()"
   ]
  },
  {
   "cell_type": "code",
   "execution_count": null,
   "metadata": {},
   "outputs": [],
   "source": [
    "# Keep the structure of the table, but delete all of the rows in it\n",
    "cursor.execute('''\n",
    "    DELETE from students\n",
    "''')\n",
    "conn.commit()"
   ]
  },
  {
   "cell_type": "code",
   "execution_count": null,
   "metadata": {},
   "outputs": [],
   "source": [
    "# Show all of the data in the students table\n",
    "cursor.execute('''\n",
    "    SELECT * from students\n",
    "''')\n",
    "cursor.fetchall()\n"
   ]
  },
  {
   "cell_type": "code",
   "execution_count": null,
   "metadata": {},
   "outputs": [],
   "source": [
    "# Show all of the data in the hobbies table\n",
    "cursor.execute('''\n",
    "    SELECT * from hobbies\n",
    "''')\n",
    "print( cursor.fetchall() )"
   ]
  },
  {
   "cell_type": "code",
   "execution_count": null,
   "metadata": {},
   "outputs": [],
   "source": [
    "# Setup the database connection again\n",
    "\n",
    "# Creates or opens a file called mydb with a SQLite3 DB\n",
    "conn = sqlite3.connect('example_db')\n",
    "# Get a cursor\n",
    "cursor = conn.cursor()"
   ]
  },
  {
   "cell_type": "code",
   "execution_count": null,
   "metadata": {},
   "outputs": [],
   "source": [
    "# Make sure all the data is commited to the database\n",
    "conn.commit()"
   ]
  },
  {
   "cell_type": "code",
   "execution_count": null,
   "metadata": {},
   "outputs": [],
   "source": [
    "# Close the connection to the database\n",
    "# It's good practice to do this when you have finished working with the data\n",
    "conn.close()"
   ]
  },
  {
   "cell_type": "code",
   "execution_count": null,
   "metadata": {},
   "outputs": [],
   "source": []
  }
 ],
 "metadata": {
  "kernelspec": {
   "display_name": "Python 3",
   "language": "python",
   "name": "python3"
  },
  "language_info": {
   "codemirror_mode": {
    "name": "ipython",
    "version": 3
   },
   "file_extension": ".py",
   "mimetype": "text/x-python",
   "name": "python",
   "nbconvert_exporter": "python",
   "pygments_lexer": "ipython3",
   "version": "3.6.9"
  }
 },
 "nbformat": 4,
 "nbformat_minor": 2
}
