{
 "cells": [
  {
   "cell_type": "code",
   "execution_count": null,
   "metadata": {},
   "outputs": [],
   "source": [
    "import pandas as pd"
   ]
  },
  {
   "cell_type": "code",
   "execution_count": null,
   "metadata": {},
   "outputs": [],
   "source": [
    "df1 = pd.DataFrame({'Id' : [\"id1\",\"id2\",\"id3\",\"id4\"],\n",
    "                    'Age': [35, 67, 12, 24],\n",
    "                    'Eyes': ['Blue', 'Blue', 'Grey', 'Brown'],\n",
    "                    'Hair': ['Black', 'Black', 'Brown', 'Pink'],\n",
    "                    'Name': ['Jon', 'Jack', 'Jim', 'Jen']\n",
    "                     })\n",
    "df1.set_index(\"Id\")\n",
    "df1"
   ]
  },
  {
   "cell_type": "code",
   "execution_count": null,
   "metadata": {},
   "outputs": [],
   "source": [
    "df2 = pd.DataFrame({'Id' : [\"id5\",\"id6\"],\n",
    "                    'Age': [11, 23],\n",
    "                    'Eyes': ['Yellow', 'Slate'],\n",
    "                    'Hair': ['Green', 'Purple'],\n",
    "                    'Name': ['Jo', 'Jun']})\n",
    "df2"
   ]
  },
  {
   "cell_type": "code",
   "execution_count": null,
   "metadata": {},
   "outputs": [],
   "source": [
    "pd.concat([df1,df2],ignore_index=True)"
   ]
  },
  {
   "cell_type": "code",
   "execution_count": null,
   "metadata": {},
   "outputs": [],
   "source": [
    "df3 = pd.DataFrame({\n",
    "                    'FavFood': ['Chips', 'Cheese', 'Broccoli', 'Candyfloss'],\n",
    "                    'NickName': ['Jonny', 'Jackie', 'Jimmy', 'Jenny']\n",
    "                     })\n",
    "df3"
   ]
  },
  {
   "cell_type": "code",
   "execution_count": null,
   "metadata": {},
   "outputs": [],
   "source": [
    "pd.concat([df1,df3],axis=1)"
   ]
  },
  {
   "cell_type": "code",
   "execution_count": null,
   "metadata": {},
   "outputs": [],
   "source": [
    "df4 = pd.DataFrame({\n",
    "                    'FavFood': ['Candyfloss', 'Chips', 'Bananas', ],\n",
    "                    'NickName': ['Jenny', 'Jonny', 'Ray']\n",
    "                     })\n",
    "df4"
   ]
  },
  {
   "cell_type": "code",
   "execution_count": null,
   "metadata": {},
   "outputs": [],
   "source": [
    "df4b = pd.DataFrame({'Ident': [\"id4\",\"id1\",\"id12\"],\n",
    "                    'FavFood': ['Candyfloss', 'Chips', 'Bananas', ],\n",
    "                    'NickName': ['Jenny', 'Jonny', 'Ray']\n",
    "                     })\n",
    "df4b"
   ]
  },
  {
   "cell_type": "code",
   "execution_count": null,
   "metadata": {},
   "outputs": [],
   "source": [
    "pd.merge(df1,df4b,left_on=\"Id\",right_on=\"Ident\")"
   ]
  },
  {
   "cell_type": "code",
   "execution_count": null,
   "metadata": {},
   "outputs": [],
   "source": [
    "pd.merge(df1,df4b,left_on=\"Id\",right_on=\"Ident\",how=\"outer\")"
   ]
  },
  {
   "cell_type": "code",
   "execution_count": null,
   "metadata": {},
   "outputs": [],
   "source": []
  }
 ],
 "metadata": {
  "kernelspec": {
   "display_name": "Python 3",
   "language": "python",
   "name": "python3"
  },
  "language_info": {
   "codemirror_mode": {
    "name": "ipython",
    "version": 3
   },
   "file_extension": ".py",
   "mimetype": "text/x-python",
   "name": "python",
   "nbconvert_exporter": "python",
   "pygments_lexer": "ipython3",
   "version": "3.7.7"
  }
 },
 "nbformat": 4,
 "nbformat_minor": 1
}
